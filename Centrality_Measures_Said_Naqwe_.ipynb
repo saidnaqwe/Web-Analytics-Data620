{
  "nbformat": 4,
  "nbformat_minor": 0,
  "metadata": {
    "colab": {
      "provenance": [],
      "authorship_tag": "ABX9TyM9A4Hl2V5vaMHaBOAFsFSK",
      "include_colab_link": true
    },
    "kernelspec": {
      "name": "python3",
      "display_name": "Python 3"
    },
    "language_info": {
      "name": "python"
    }
  },
  "cells": [
    {
      "cell_type": "markdown",
      "metadata": {
        "id": "view-in-github",
        "colab_type": "text"
      },
      "source": [
        "<a href=\"https://colab.research.google.com/github/saidnaqwe/Web-Analytics-Data620/blob/main/Centrality_Measures_Said_Naqwe_.ipynb\" target=\"_parent\"><img src=\"https://colab.research.google.com/assets/colab-badge.svg\" alt=\"Open In Colab\"/></a>"
      ]
    },
    {
      "cell_type": "markdown",
      "source": [
        "Data 620 Web Analytics\n",
        "\n",
        "Week Four - Assignment Centrality Measures\n",
        "\n",
        "Said Naqwe"
      ],
      "metadata": {
        "id": "Xwkin6Q3_W-z"
      }
    },
    {
      "cell_type": "markdown",
      "source": [
        "**Assignment: Centrality Measures Overview**\n",
        "\n",
        "Centrality measures can be incredibly useful for predicting outcomes in a network. For this week's assignment, I’ll be diving into a dataset available on the web that lets me analyze and compare centrality measures across nodes. Each node should have at least one categorical variable, such as gender or political affiliation.\n",
        "\n",
        "### Dataset Selection\n",
        "\n",
        "For this assignment, I’ve chosen to use the OpenFlights.org dataset, which includes data on:\n",
        "\n",
        "- **Airports**\n",
        "- **Routes**\n",
        "\n",
        "### Variables\n",
        "\n",
        "Here are the important variables I’ll be working with:\n",
        "\n",
        "#### Routes Dataset\n",
        "\n",
        "This includes variables like Airline, Source Airport, Destination Airport, and Stops.\n",
        "\n",
        "#### Airports Dataset\n",
        "\n",
        "This dataset provides information on Airport ID, Name, City, Country, Latitude, and more.\n",
        "\n",
        "### Nodes and Edges\n",
        "\n",
        "I’ll create nodes from the Source Airport and Destination Airport variables in the Routes dataset. Each record showing a source and destination airport represents an edge between nodes. I can also use the Stops variable as an optional edge weight.\n",
        "\n",
        "### Categorical Variable\n",
        "\n",
        "I’ll introduce a categorical variable called `N_S_Hemisphere` based on the latitude of the airports. Airports with a negative latitude will be labeled `S` (South), and those with a positive latitude will be labeled `N` (North).\n",
        "\n",
        "### Centrality Measures\n",
        "\n",
        "I’ll be focusing on these key centrality measures:\n",
        "\n",
        "- **Degree Centrality**: This looks at how many direct connections each node has.\n",
        "- **Betweenness Centrality**: This identifies nodes that act as bridges within the network.\n",
        "- **Closeness Centrality**: This calculates the shortest paths between nodes and assigns scores based on their sum of shortest paths.\n",
        "- **EigenCentrality**: This measure identifies nodes with influence over the entire network.\n",
        "- **PageRank**: This uncovers nodes whose influence extends beyond direct connections into the wider network.\n",
        "\n",
        "### Data Loading and Analysis Plan\n",
        "\n",
        "1. **Download Data**: Grab the .dat files from OpenFlights.org.\n",
        "2. **Read Data**: Load the data into Pandas DataFrames.\n",
        "3. **Import Variables**: Import only the variables needed.\n",
        "4. **Merge Datasets**: Combine the Routes and Airports datasets.\n",
        "5. **Create Categorical Variable**: Generate `N_S_Hemisphere` from Latitude.\n",
        "6. **Save Data**: Write the cleaned and merged data to a .edges file.\n",
        "7. **NetworkX**: Import the data into NetworkX for analysis.\n",
        "\n"
      ],
      "metadata": {
        "id": "00htsgwiGXrl"
      }
    },
    {
      "cell_type": "markdown",
      "source": [
        "**Python Code**"
      ],
      "metadata": {
        "id": "LmrfImWuIaFy"
      }
    },
    {
      "cell_type": "code",
      "source": [
        "import pandas as pd\n",
        "import urllib.request\n",
        "\n",
        "# URLs from OpenFlights data page\n",
        "airports_url = \"https://raw.githubusercontent.com/jpatokal/openflights/master/data/airports.dat\"\n",
        "routes_url = \"https://raw.githubusercontent.com/jpatokal/openflights/master/data/routes.dat\"\n",
        "\n",
        "# Adding headers to bypass potential restrictions\n",
        "req_airports = urllib.request.Request(airports_url, headers={'User-Agent': 'Mozilla/5.0'})\n",
        "req_routes = urllib.request.Request(routes_url, headers={'User-Agent': 'Mozilla/5.0'})\n",
        "\n",
        "# Reading the data\n",
        "with urllib.request.urlopen(req_airports) as response:\n",
        "    airports = pd.read_csv(response, header=None)\n",
        "\n",
        "with urllib.request.urlopen(req_routes) as response:\n",
        "    routes = pd.read_csv(response, header=None)\n",
        "\n",
        "# Displaying the first few rows of each dataframe\n",
        "print(airports.head())\n",
        "print(routes.head())\n"
      ],
      "metadata": {
        "colab": {
          "base_uri": "https://localhost:8080/"
        },
        "id": "0IPNZqs6IYZd",
        "outputId": "d2e20138-e1cb-4702-e5e6-fd285726951f"
      },
      "execution_count": null,
      "outputs": [
        {
          "output_type": "stream",
          "name": "stdout",
          "text": [
            "   0                                            1             2   \\\n",
            "0   1                               Goroka Airport        Goroka   \n",
            "1   2                               Madang Airport        Madang   \n",
            "2   3                 Mount Hagen Kagamuga Airport   Mount Hagen   \n",
            "3   4                               Nadzab Airport        Nadzab   \n",
            "4   5  Port Moresby Jacksons International Airport  Port Moresby   \n",
            "\n",
            "                 3    4     5         6           7     8   9  10  \\\n",
            "0  Papua New Guinea  GKA  AYGA -6.081690  145.391998  5282  10  U   \n",
            "1  Papua New Guinea  MAG  AYMD -5.207080  145.789001    20  10  U   \n",
            "2  Papua New Guinea  HGU  AYMH -5.826790  144.296005  5388  10  U   \n",
            "3  Papua New Guinea  LAE  AYNZ -6.569803  146.725977   239  10  U   \n",
            "4  Papua New Guinea  POM  AYPY -9.443380  147.220001   146  10  U   \n",
            "\n",
            "                     11       12           13  \n",
            "0  Pacific/Port_Moresby  airport  OurAirports  \n",
            "1  Pacific/Port_Moresby  airport  OurAirports  \n",
            "2  Pacific/Port_Moresby  airport  OurAirports  \n",
            "3  Pacific/Port_Moresby  airport  OurAirports  \n",
            "4  Pacific/Port_Moresby  airport  OurAirports  \n",
            "    0    1    2     3    4     5    6  7    8\n",
            "0  2B  410  AER  2965  KZN  2990  NaN  0  CR2\n",
            "1  2B  410  ASF  2966  KZN  2990  NaN  0  CR2\n",
            "2  2B  410  ASF  2966  MRV  2962  NaN  0  CR2\n",
            "3  2B  410  CEK  2968  KZN  2990  NaN  0  CR2\n",
            "4  2B  410  CEK  2968  OVB  4078  NaN  0  CR2\n"
          ]
        }
      ]
    }
  ]
}