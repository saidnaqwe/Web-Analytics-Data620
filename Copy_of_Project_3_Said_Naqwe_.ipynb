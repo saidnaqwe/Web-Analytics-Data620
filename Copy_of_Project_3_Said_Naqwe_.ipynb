{
  "nbformat": 4,
  "nbformat_minor": 0,
  "metadata": {
    "colab": {
      "provenance": [],
      "toc_visible": true,
      "include_colab_link": true
    },
    "kernelspec": {
      "name": "python3",
      "display_name": "Python 3"
    },
    "language_info": {
      "name": "python"
    }
  },
  "cells": [
    {
      "cell_type": "markdown",
      "metadata": {
        "id": "view-in-github",
        "colab_type": "text"
      },
      "source": [
        "<a href=\"https://colab.research.google.com/github/saidnaqwe/Web-Analytics-Data620/blob/main/Copy_of_Project_3_Said_Naqwe_.ipynb\" target=\"_parent\"><img src=\"https://colab.research.google.com/assets/colab-badge.svg\" alt=\"Open In Colab\"/></a>"
      ]
    },
    {
      "cell_type": "markdown",
      "source": [
        "Data 620 Web Analytics\n",
        "\n",
        "Project 3 -  Gender Classifier\n",
        "\n",
        "\n",
        "\n",
        "Said Naqwe\n",
        "\n",
        "Eddie Xu\n",
        "\n",
        "Mohamed Hassan-El Serafi\n",
        "\n"
      ],
      "metadata": {
        "id": "Xwkin6Q3_W-z"
      }
    },
    {
      "cell_type": "markdown",
      "source": [
        "For this project, please work with the entire class as one collaborative group! Your project should be\n",
        "submitted (as a Jupyter Notebook via GitHub) by end of the due date. The group should present their\n",
        "code and findings in our meetup.\n",
        "The ability to be an effective member of a virtual team is highly valued in the data science job market.\n",
        "\n",
        "Using any of the three classifiers described in chapter 6 of Natural Language Processing with Python,\n",
        "and any features you can think of, build the best name gender classifier you can.\n",
        "Begin by splitting the Names Corpus into three subsets: 500 words for the test set, 500 words for the devtest set, and the remaining 6900 words for the training set. Then, starting with the example name gender\n",
        "classifier, make incremental improvements. Use the dev-test set to check your progress. Once you are\n",
        "satisfied with your classifier, check its final performance on the test set.\n",
        "How does the performance on the test set compare to the performance on the dev-test set? Is this what\n",
        "you'd expect?\n",
        "Source: Natural Language Processing with Python, exercise 6.10.2."
      ],
      "metadata": {
        "id": "dYVdee8FUNKR"
      }
    },
    {
      "cell_type": "markdown",
      "source": [
        "# Introduction\n",
        "\n",
        "As a team, we conducted a comprehensive evaluation of machine learning models to compare their performance and identify key strengths and limitations. Our analysis focused on the Decision Tree and Naive Bayes models, assessing their training accuracy, error rates, and predictive consistency across the test set, dev-test set, and an additional dataset. While the Decision Tree model demonstrated higher training accuracy, our collaborative efforts revealed that the Naive Bayes model consistently outperformed it in terms of overall accuracy and reliability in predictions. This joint study lays the groundwork for a detailed discussion of the comparative performance of these models."
      ],
      "metadata": {
        "id": "qef6-jjAXZEI"
      }
    },
    {
      "cell_type": "markdown",
      "source": [
        "# Libraries"
      ],
      "metadata": {
        "id": "yqqy8HlTw5mS"
      }
    },
    {
      "cell_type": "code",
      "source": [
        "#import libraries\n",
        "import nltk\n",
        "import pandas as pd\n",
        "import random\n",
        "from nltk.corpus import names\n",
        "from nltk.classify import apply_features\n",
        "import collections\n",
        "import nltk.metrics\n",
        "from nltk.metrics import precision,recall,f_measure\n",
        "from nltk import classify\n",
        "from sklearn.metrics import confusion_matrix, classification_report\n",
        "import seaborn as sns\n",
        "import numpy as np\n",
        "import matplotlib.pyplot as plt"
      ],
      "metadata": {
        "id": "tgBTs45Dw2Ua"
      },
      "execution_count": null,
      "outputs": []
    },
    {
      "cell_type": "markdown",
      "source": [
        "# Data Preparation\n",
        "\n",
        "Import name data from the NLTK library files for males and females, combine them into a single dataset, and apply random shuffling to the names."
      ],
      "metadata": {
        "id": "d3FxMzfww9z7"
      }
    },
    {
      "source": [
        "#import libraries\n",
        "import nltk\n",
        "import pandas as pd\n",
        "import random\n",
        "from nltk.corpus import names\n",
        "from nltk.classify import apply_features\n",
        "import collections\n",
        "import nltk.metrics\n",
        "from nltk.metrics import precision,recall,f_measure\n",
        "import numpy as np\n",
        "import matplotlib.pyplot as plt\n",
        "import textwrap as tw\n",
        "\n",
        "# Download the 'names' dataset from NLTK\n",
        "nltk.download('names')\n",
        "\n",
        "#set seed for recreation\n",
        "random.seed(620)\n",
        "\n",
        "#get data from NLTK library files\n",
        "names_list = ([(name, 'male') for name in names.words('male.txt')] +\n",
        "[(name, 'female') for name in names.words('female.txt')])\n",
        "\n",
        "# To make sure we are sampling across all the names\n",
        "# we shuffle them so they aren't alphabetical\n",
        "random.shuffle(names_list)\n",
        "\n",
        "#list names\n",
        "names_list[0:10] # This line will now have access to names_list after running the first cell that defined it"
      ],
      "cell_type": "code",
      "metadata": {
        "colab": {
          "base_uri": "https://localhost:8080/"
        },
        "id": "hVlplDQzSTud",
        "outputId": "92f67e91-51c5-4394-9818-f44289619e31"
      },
      "execution_count": null,
      "outputs": [
        {
          "output_type": "stream",
          "name": "stderr",
          "text": [
            "[nltk_data] Downloading package names to /root/nltk_data...\n",
            "[nltk_data]   Package names is already up-to-date!\n"
          ]
        },
        {
          "output_type": "execute_result",
          "data": {
            "text/plain": [
              "[('Christie', 'female'),\n",
              " ('Tibold', 'male'),\n",
              " ('Chet', 'male'),\n",
              " ('Alyss', 'female'),\n",
              " ('Eunice', 'female'),\n",
              " ('Mehetabel', 'female'),\n",
              " ('Marj', 'female'),\n",
              " ('Adam', 'male'),\n",
              " ('Natka', 'female'),\n",
              " ('Sarene', 'female')]"
            ]
          },
          "metadata": {},
          "execution_count": 2
        }
      ]
    },
    {
      "cell_type": "markdown",
      "source": [
        "# Data Stats"
      ],
      "metadata": {
        "id": "029YRhdxSghs"
      }
    },
    {
      "source": [
        "print(\"Total count: \" , len(names_list)) # Use names_list instead of names"
      ],
      "cell_type": "code",
      "metadata": {
        "colab": {
          "base_uri": "https://localhost:8080/"
        },
        "id": "5rFNL9BNSpdE",
        "outputId": "2d161d56-111d-42f6-ad71-5317e1474fc1"
      },
      "execution_count": null,
      "outputs": [
        {
          "output_type": "stream",
          "name": "stdout",
          "text": [
            "Total count:  7944\n"
          ]
        }
      ]
    },
    {
      "cell_type": "markdown",
      "source": [
        "## Dataset Splitting\n",
        "\n",
        "The dataset is split according to the following criteria:\n",
        "\n",
        "500 words for the test set\n",
        "500 words for the dev-test set\n",
        "The remaining 6,900+ words for the training set"
      ],
      "metadata": {
        "id": "9_XZvA_6S1Al"
      }
    },
    {
      "source": [
        "test_set = names_list[:500] # Use names_list instead of names\n",
        "print(\"test set: \" , len(test_set))\n",
        "devtest_set = names_list[500:1000] # Use names_list instead of names\n",
        "print(\"dev test set: \" , len(devtest_set))\n",
        "train_set = names_list[1000:] # Use names_list instead of names\n",
        "print(\"train set: \" , len(train_set))"
      ],
      "cell_type": "code",
      "metadata": {
        "colab": {
          "base_uri": "https://localhost:8080/"
        },
        "id": "F7yox5SBTAaL",
        "outputId": "290ca65f-5183-4b12-c822-abc1dd178db4"
      },
      "execution_count": null,
      "outputs": [
        {
          "output_type": "stream",
          "name": "stdout",
          "text": [
            "test set:  500\n",
            "dev test set:  500\n",
            "train set:  6944\n"
          ]
        }
      ]
    },
    {
      "cell_type": "code",
      "source": [
        "male_names = [(name, 'male') for name in names.words('male.txt')]\n",
        "female_names = [(name, 'female') for name in names.words('female.txt')]\n",
        "all_names = male_names + female_names\n",
        "\n",
        "# Shuffle the dataset to ensure it's randomly ordered\n",
        "random.seed(4657)\n",
        "random.shuffle(all_names)\n",
        "ln = len(all_names)\n",
        "print(f\"\\nThe first 10 out of {ln} total entries in the shuffled names dataset:\\n\")\n",
        "wrapped = tw.fill(str(all_names[:10]))\n",
        "print(wrapped)"
      ],
      "metadata": {
        "colab": {
          "base_uri": "https://localhost:8080/"
        },
        "id": "I4d1EP7jaX-V",
        "outputId": "fce1ce78-839b-459a-ca58-43796ee414cd"
      },
      "execution_count": null,
      "outputs": [
        {
          "output_type": "stream",
          "name": "stdout",
          "text": [
            "\n",
            "The first 10 out of 7944 total entries in the shuffled names dataset:\n",
            "\n",
            "[('Iseabal', 'female'), ('Andee', 'female'), ('Englebart', 'male'),\n",
            "('Susi', 'female'), ('Row', 'female'), ('Delmar', 'male'), ('Faina',\n",
            "'female'), ('Nero', 'male'), ('Dena', 'female'), ('Crista', 'female')]\n"
          ]
        }
      ]
    },
    {
      "cell_type": "code",
      "source": [
        "def intersection(lst1, lst2):\n",
        "    lst3 = [name for (name, _) in lst1 + lst2]\n",
        "    seen = set()\n",
        "    overlap = [name for name in lst3 if name in seen or seen.add(name)]\n",
        "    return overlap\n",
        "overlap = intersection(male_names, female_names)"
      ],
      "metadata": {
        "id": "smpTApYkZyKn"
      },
      "execution_count": null,
      "outputs": []
    },
    {
      "cell_type": "code",
      "source": [
        "neutral_names = [(name, \"neutral\") for name in overlap]\n",
        "male_names = [(name, gender) for (name, gender) in male_names if name not in overlap]\n",
        "female_names = [(name, gender) for (name, gender) in female_names if name not in overlap]\n",
        "all_names = male_names + neutral_names + female_names\n",
        "x = [\"male\", \"neutral\", \"female\"]\n",
        "y = [len(male_names), len(neutral_names), len(female_names)]\n",
        "fig, ax = plt.subplots()\n",
        "bars = ax.bar(x, y, color = [\"tab:blue\", \"tab:orange\", \"tab:purple\"])\n",
        "ax.set_xlabel(\"Gender\")\n",
        "ax.set_ylabel(\"Count\")\n",
        "ax.set_title(\"Count of Names by Gender\")\n",
        "def autolabel(bars):\n",
        "    for bar in bars:\n",
        "        height = bar.get_height()\n",
        "        perc_str = str(round(100 * height / len(all_names), 1)) + \"%\"\n",
        "        ax.text(bar.get_x() + bar.get_width()/2., height - 100,\n",
        "                '%s' % perc_str, ha = \"center\", va = \"top\",\n",
        "                color = \"white\", weight = \"bold\", size = 12)\n",
        "autolabel(bars)\n",
        "plt.show()"
      ],
      "metadata": {
        "colab": {
          "base_uri": "https://localhost:8080/",
          "height": 472
        },
        "id": "pgzoxwS5ZkUE",
        "outputId": "d79d7ab4-d8c8-487d-bb1b-5c52353a3ba6"
      },
      "execution_count": null,
      "outputs": [
        {
          "output_type": "display_data",
          "data": {
            "text/plain": [
              "<Figure size 640x480 with 1 Axes>"
            ],
            "image/png": "[encoded data removed]"
          },
          "metadata": {}
        }
      ]
    },
    {
      "cell_type": "markdown",
      "source": [
        "# Feature Set - Gender\n",
        "\n",
        "To set up the feature set for predicting the output variable, we focus on individual measurable properties or characteristics of the observed phenomenon. In our case, the features will be various patterns and characteristics of the names."
      ],
      "metadata": {
        "id": "0TKrvh39TF-h"
      }
    },
    {
      "cell_type": "code",
      "source": [
        "def gender_features(name):\n",
        "    features = {}\n",
        "    features[\"firstletter\"] = name[0].lower()\n",
        "    features[\"lastletter\"] = name[-1].lower()\n",
        "    features[\"suffix2\"]= name[-2:].lower()\n",
        "    features[\"preffix2\"]= name[:2].lower()\n",
        "    for letter in 'aeiou':\n",
        "        features[\"count(%s)\" % letter] = name.lower().count(letter)\n",
        "        features[\"has(%s)\" % letter] = (letter in name.lower())\n",
        "    return features"
      ],
      "metadata": {
        "id": "GAjcVeB_TRTk"
      },
      "execution_count": null,
      "outputs": []
    },
    {
      "source": [
        "featuresets = [(gender_features(n), g) for (n,g) in names_list] # Changed 'names' to 'names_list'"
      ],
      "cell_type": "code",
      "metadata": {
        "id": "t4kZwvAmTZUL"
      },
      "execution_count": null,
      "outputs": []
    },
    {
      "cell_type": "code",
      "source": [
        "train_set_fe = featuresets[1000:]\n",
        "test_set_fe =featuresets[:500]\n",
        "devtest_set_fe =featuresets[500:1000]"
      ],
      "metadata": {
        "id": "ohLpB_oBTa4s"
      },
      "execution_count": null,
      "outputs": []
    },
    {
      "cell_type": "markdown",
      "source": [
        "# Naive Bayes Classifier\n",
        "\n",
        "Applying the Naive Bayes Classifier to determine the accuracy of the predictions."
      ],
      "metadata": {
        "id": "dyeQ4LQETkGj"
      }
    },
    {
      "cell_type": "code",
      "source": [
        "classifier = nltk.NaiveBayesClassifier.train(train_set_fe)"
      ],
      "metadata": {
        "id": "PI9EAI9-TnV7"
      },
      "execution_count": null,
      "outputs": []
    },
    {
      "cell_type": "markdown",
      "source": [
        "## Calculate Metrics: Accuracy, Recall, Precision, and F-Measure"
      ],
      "metadata": {
        "id": "9qWuOp4bTyo6"
      }
    },
    {
      "cell_type": "code",
      "source": [
        "refsets = collections.defaultdict(set)\n",
        "testsets = collections.defaultdict(set)\n",
        "\n",
        "for i, (feats, label) in enumerate(train_set_fe):\n",
        "    refsets[label].add(i)\n",
        "    observed = classifier.classify(feats)\n",
        "    testsets[observed].add(i)\n",
        "\n",
        "accuracy_train = nltk.classify.accuracy(classifier, train_set_fe)\n",
        "avg_precision_train = (precision(refsets['male'], testsets['male'])+precision(refsets['male'], testsets['female']))/2\n",
        "avg_recall_train = (recall(refsets['male'], testsets['male'])+recall(refsets['male'], testsets['female']))/2\n",
        "avg_f_measure_train = (f_measure(refsets['male'], testsets['male'])+f_measure(refsets['male'], testsets['female']))/2\n",
        "\n",
        "\n",
        "refsets = collections.defaultdict(set)\n",
        "testsets = collections.defaultdict(set)\n",
        "\n",
        "for i, (feats, label) in enumerate(test_set_fe):\n",
        "    refsets[label].add(i)\n",
        "    observed = classifier.classify(feats)\n",
        "    testsets[observed].add(i)\n",
        "\n",
        "accuracy_test = nltk.classify.accuracy(classifier, test_set_fe)\n",
        "avg_precision_test = (precision(refsets['male'], testsets['male'])+precision(refsets['male'], testsets['female']))/2\n",
        "avg_recall_test = (recall(refsets['male'], testsets['male'])+recall(refsets['male'], testsets['female']))/2\n",
        "avg_f_measure_test = (f_measure(refsets['male'], testsets['male'])+f_measure(refsets['male'], testsets['female']))/2\n",
        "\n",
        "\n",
        "for i, (feats, label) in enumerate(devtest_set_fe):\n",
        "    refsets[label].add(i)\n",
        "    observed = classifier.classify(feats)\n",
        "    testsets[observed].add(i)\n",
        "\n",
        "accuracy_dev = nltk.classify.accuracy(classifier, devtest_set_fe)\n",
        "avg_precision_dev = (precision(refsets['male'], testsets['male'])+precision(refsets['male'], testsets['female']))/2\n",
        "avg_recall_dev = (recall(refsets['male'], testsets['male'])+recall(refsets['male'], testsets['female']))/2\n",
        "avg_f_measure_dev = (f_measure(refsets['male'], testsets['male'])+f_measure(refsets['male'], testsets['female']))/2\n",
        "\n",
        "accuracy_naive_final = [accuracy_train,accuracy_test,accuracy_dev]\n",
        "precision_naive_final = [avg_precision_train,avg_precision_test,avg_precision_dev]\n",
        "recall_naive_final = [avg_recall_train,avg_recall_test,avg_recall_dev]\n",
        "f_measure_naive_final = [avg_f_measure_train,avg_f_measure_test,avg_f_measure_dev]\n",
        "\n",
        "naive_final_train = [accuracy_train,avg_precision_train,avg_recall_train,avg_f_measure_train]\n",
        "naive_final_test = [accuracy_test,avg_precision_test,avg_recall_test,avg_f_measure_test]\n",
        "naive_final_dev = [accuracy_dev,avg_precision_dev,avg_recall_dev,avg_f_measure_dev]\n",
        "naive_combined = {'Accuracy':accuracy_naive_final,'Precision':precision_naive_final,'Recall':recall_naive_final,'F_Measure':f_measure_naive_final}\n",
        "\n",
        "df_naive = pd.DataFrame(naive_combined,index=['Train','Test','Dev'],columns=['Accuracy','Precision','Recall','F_Measure'])"
      ],
      "metadata": {
        "id": "gRdFRKXWT4k2"
      },
      "execution_count": null,
      "outputs": []
    },
    {
      "cell_type": "markdown",
      "source": [
        "## Naive Bayes Features List"
      ],
      "metadata": {
        "id": "GCuM1B5oUKs6"
      }
    },
    {
      "cell_type": "code",
      "source": [
        "print(\"---------Naive Bayes Classifier Metrics---------\")\n",
        "print(df_naive)\n",
        "\n",
        "# Show important features\n",
        "classifier.show_most_informative_features(20)"
      ],
      "metadata": {
        "colab": {
          "base_uri": "https://localhost:8080/"
        },
        "id": "H1-vnqXOULaq",
        "outputId": "9157da81-710c-41ac-a00b-ea4d9e5e56fa"
      },
      "execution_count": null,
      "outputs": [
        {
          "output_type": "stream",
          "name": "stdout",
          "text": [
            "---------Naive Bayes Classifier Metrics---------\n",
            "       Accuracy  Precision    Recall  F_Measure\n",
            "Train  0.810916   0.437817  0.500000   0.463358\n",
            "Test   0.802000   0.419760  0.500000   0.454170\n",
            "Dev    0.778000   0.622769  0.794014   0.695505\n",
            "Most Informative Features\n",
            "                 suffix2 = 'na'           female : male   =     93.8 : 1.0\n",
            "                 suffix2 = 'la'           female : male   =     71.8 : 1.0\n",
            "                 suffix2 = 'ia'           female : male   =     52.5 : 1.0\n",
            "              lastletter = 'a'            female : male   =     34.6 : 1.0\n",
            "                 suffix2 = 'sa'           female : male   =     32.6 : 1.0\n",
            "                 suffix2 = 'rd'             male : female =     29.4 : 1.0\n",
            "              lastletter = 'f'              male : female =     28.5 : 1.0\n",
            "              lastletter = 'k'              male : female =     28.0 : 1.0\n",
            "                 suffix2 = 'us'             male : female =     27.5 : 1.0\n",
            "                 suffix2 = 'ra'           female : male   =     24.2 : 1.0\n",
            "                 suffix2 = 'ta'           female : male   =     24.1 : 1.0\n",
            "                 suffix2 = 'io'             male : female =     23.6 : 1.0\n",
            "                 suffix2 = 'ld'             male : female =     23.4 : 1.0\n",
            "                 suffix2 = 'rt'             male : female =     23.3 : 1.0\n",
            "                 suffix2 = 'do'             male : female =     22.5 : 1.0\n",
            "                preffix2 = 'hu'             male : female =     17.1 : 1.0\n",
            "                 suffix2 = 'os'             male : female =     17.0 : 1.0\n",
            "              lastletter = 'v'              male : female =     16.2 : 1.0\n",
            "              lastletter = 'p'              male : female =     15.1 : 1.0\n",
            "                 suffix2 = 'ka'           female : male   =     14.4 : 1.0\n"
          ]
        }
      ]
    },
    {
      "cell_type": "markdown",
      "source": [
        "## Compare with dev test data for error rate - Naive Bayes"
      ],
      "metadata": {
        "id": "nMEt7Ti1USmZ"
      }
    },
    {
      "cell_type": "code",
      "source": [
        "# Check errors\n",
        "errors = []\n",
        "for (name, tag) in devtest_set:\n",
        "    guess = classifier.classify(gender_features(name))\n",
        "    if guess != tag:\n",
        "        errors.append( (tag, guess, name) )"
      ],
      "metadata": {
        "id": "Oikj2sTpUSMh"
      },
      "execution_count": null,
      "outputs": []
    },
    {
      "cell_type": "code",
      "source": [
        "for (tag, guess, name) in sorted(errors): # doctest: +ELLIPSIS +NORMALIZE_WHITESPACE\n",
        "    print('correct=%-8s guess=%-8s name=%-30s' % (tag, guess, name))"
      ],
      "metadata": {
        "colab": {
          "base_uri": "https://localhost:8080/"
        },
        "id": "wCUiQ8f3UXMa",
        "outputId": "66afb4af-6044-4414-a550-2b1755e27c56"
      },
      "execution_count": null,
      "outputs": [
        {
          "output_type": "stream",
          "name": "stdout",
          "text": [
            "correct=female   guess=male     name=Aurore                        \n",
            "correct=female   guess=male     name=Austin                        \n",
            "correct=female   guess=male     name=Barbe                         \n",
            "correct=female   guess=male     name=Barby                         \n",
            "correct=female   guess=male     name=Bebe                          \n",
            "correct=female   guess=male     name=Bird                          \n",
            "correct=female   guess=male     name=Birgit                        \n",
            "correct=female   guess=male     name=Bunnie                        \n",
            "correct=female   guess=male     name=Cameo                         \n",
            "correct=female   guess=male     name=Caron                         \n",
            "correct=female   guess=male     name=Clemmy                        \n",
            "correct=female   guess=male     name=Cloris                        \n",
            "correct=female   guess=male     name=Coleen                        \n",
            "correct=female   guess=male     name=Colleen                       \n",
            "correct=female   guess=male     name=Corliss                       \n",
            "correct=female   guess=male     name=Cybill                        \n",
            "correct=female   guess=male     name=Cynthy                        \n",
            "correct=female   guess=male     name=Debor                         \n",
            "correct=female   guess=male     name=Devon                         \n",
            "correct=female   guess=male     name=Dian                          \n",
            "correct=female   guess=male     name=Dorian                        \n",
            "correct=female   guess=male     name=Dory                          \n",
            "correct=female   guess=male     name=Eddy                          \n",
            "correct=female   guess=male     name=Eden                          \n",
            "correct=female   guess=male     name=Elonore                       \n",
            "correct=female   guess=male     name=Gabriel                       \n",
            "correct=female   guess=male     name=Gabriell                      \n",
            "correct=female   guess=male     name=Gilly                         \n",
            "correct=female   guess=male     name=Gretchen                      \n",
            "correct=female   guess=male     name=Hally                         \n",
            "correct=female   guess=male     name=Harriet                       \n",
            "correct=female   guess=male     name=Hildy                         \n",
            "correct=female   guess=male     name=Jean                          \n",
            "correct=female   guess=male     name=Joell                         \n",
            "correct=female   guess=male     name=Kipp                          \n",
            "correct=female   guess=male     name=Lauren                        \n",
            "correct=female   guess=male     name=Manon                         \n",
            "correct=female   guess=male     name=Marlo                         \n",
            "correct=female   guess=male     name=Megan                         \n",
            "correct=female   guess=male     name=Michell                       \n",
            "correct=female   guess=male     name=Milicent                      \n",
            "correct=female   guess=male     name=Monah                         \n",
            "correct=female   guess=male     name=Nike                          \n",
            "correct=female   guess=male     name=Noel                          \n",
            "correct=female   guess=male     name=Noreen                        \n",
            "correct=female   guess=male     name=Pegeen                        \n",
            "correct=female   guess=male     name=Phillis                       \n",
            "correct=female   guess=male     name=Piper                         \n",
            "correct=female   guess=male     name=Prudy                         \n",
            "correct=female   guess=male     name=Robbyn                        \n",
            "correct=female   guess=male     name=Rory                          \n",
            "correct=female   guess=male     name=Rosario                       \n",
            "correct=female   guess=male     name=Roselin                       \n",
            "correct=female   guess=male     name=Roze                          \n",
            "correct=female   guess=male     name=Sal                           \n",
            "correct=female   guess=male     name=Sammy                         \n",
            "correct=female   guess=male     name=Sandy                         \n",
            "correct=female   guess=male     name=Scarlet                       \n",
            "correct=female   guess=male     name=Shanon                        \n",
            "correct=female   guess=male     name=Shay                          \n",
            "correct=female   guess=male     name=Shell                         \n",
            "correct=female   guess=male     name=Sher                          \n",
            "correct=female   guess=male     name=Stormie                       \n",
            "correct=female   guess=male     name=Sue                           \n",
            "correct=female   guess=male     name=Tabby                         \n",
            "correct=female   guess=male     name=Theo                          \n",
            "correct=female   guess=male     name=Tiff                          \n",
            "correct=female   guess=male     name=Toby                          \n",
            "correct=female   guess=male     name=Torie                         \n",
            "correct=female   guess=male     name=Trix                          \n",
            "correct=female   guess=male     name=Wileen                        \n",
            "correct=female   guess=male     name=Willie                        \n",
            "correct=female   guess=male     name=Yetty                         \n",
            "correct=male     guess=female   name=Abbie                         \n",
            "correct=male     guess=female   name=Adrian                        \n",
            "correct=male     guess=female   name=Alastair                      \n",
            "correct=male     guess=female   name=Aldis                         \n",
            "correct=male     guess=female   name=Andre                         \n",
            "correct=male     guess=female   name=Bealle                        \n",
            "correct=male     guess=female   name=Blaine                        \n",
            "correct=male     guess=female   name=Chrissy                       \n",
            "correct=male     guess=female   name=Craig                         \n",
            "correct=male     guess=female   name=Darren                        \n",
            "correct=male     guess=female   name=Dewey                         \n",
            "correct=male     guess=female   name=Dmitri                        \n",
            "correct=male     guess=female   name=Emile                         \n",
            "correct=male     guess=female   name=Evelyn                        \n",
            "correct=male     guess=female   name=Felipe                        \n",
            "correct=male     guess=female   name=Flinn                         \n",
            "correct=male     guess=female   name=Georgia                       \n",
            "correct=male     guess=female   name=Glenn                         \n",
            "correct=male     guess=female   name=Ivan                          \n",
            "correct=male     guess=female   name=Jamie                         \n",
            "correct=male     guess=female   name=Jedediah                      \n",
            "correct=male     guess=female   name=Jefferey                      \n",
            "correct=male     guess=female   name=Jessee                        \n",
            "correct=male     guess=female   name=Jodie                         \n",
            "correct=male     guess=female   name=Lindsay                       \n",
            "correct=male     guess=female   name=Lorrie                        \n",
            "correct=male     guess=female   name=Lynn                          \n",
            "correct=male     guess=female   name=Micky                         \n",
            "correct=male     guess=female   name=Partha                        \n",
            "correct=male     guess=female   name=Pepe                          \n",
            "correct=male     guess=female   name=Perceval                      \n",
            "correct=male     guess=female   name=Rabi                          \n",
            "correct=male     guess=female   name=Sayre                         \n",
            "correct=male     guess=female   name=Stearne                       \n",
            "correct=male     guess=female   name=Tammie                        \n",
            "correct=male     guess=female   name=Terri                         \n",
            "correct=male     guess=female   name=Tremayne                      \n",
            "correct=male     guess=female   name=Waite                         \n"
          ]
        }
      ]
    },
    {
      "cell_type": "markdown",
      "source": [
        "## Result of Unmatched Error Count - Naive Bayes"
      ],
      "metadata": {
        "id": "aNq0dpVIUbMi"
      }
    },
    {
      "cell_type": "code",
      "source": [
        "naive_errors = len(errors)\n",
        "print(\"Error count: \", naive_errors)"
      ],
      "metadata": {
        "colab": {
          "base_uri": "https://localhost:8080/"
        },
        "id": "RLHWAznbUfYa",
        "outputId": "fd180afb-0ff7-446d-d3ed-3da42e75389f"
      },
      "execution_count": null,
      "outputs": [
        {
          "output_type": "stream",
          "name": "stdout",
          "text": [
            "Error count:  111\n"
          ]
        }
      ]
    },
    {
      "cell_type": "markdown",
      "source": [
        "# Decision Tree Classifier\n",
        "\n",
        "Our team applied the decision tree classifier to determine the accuracy of our predictions."
      ],
      "metadata": {
        "id": "Pvz8747kUtgZ"
      }
    },
    {
      "cell_type": "code",
      "source": [
        "classifier_tree = nltk.DecisionTreeClassifier.train(train_set_fe)"
      ],
      "metadata": {
        "id": "L6Nnf-l3Uvpp"
      },
      "execution_count": null,
      "outputs": []
    },
    {
      "cell_type": "markdown",
      "source": [
        "## Time to Calculate Metrics"
      ],
      "metadata": {
        "id": "Y00DFN7rUyV5"
      }
    },
    {
      "cell_type": "code",
      "source": [
        "efsets = collections.defaultdict(set)\n",
        "testsets = collections.defaultdict(set)\n",
        "\n",
        "for i, (feats, label) in enumerate(train_set_fe):\n",
        "    refsets[label].add(i)\n",
        "    observed = classifier_tree.classify(feats)\n",
        "    testsets[observed].add(i)\n",
        "\n",
        "accuracy_train_dt = nltk.classify.accuracy(classifier_tree, train_set_fe)\n",
        "avg_precision_train_dt = (precision(refsets['male'], testsets['male'])+precision(refsets['male'], testsets['female']))/2\n",
        "avg_recall_train_dt = (recall(refsets['male'], testsets['male'])+recall(refsets['male'], testsets['female']))/2\n",
        "avg_f_measure_train_dt = (f_measure(refsets['male'], testsets['male'])+f_measure(refsets['male'], testsets['female']))/2\n",
        "\n",
        "\n",
        "refsets = collections.defaultdict(set)\n",
        "testsets = collections.defaultdict(set)\n",
        "\n",
        "for i, (feats, label) in enumerate(test_set_fe):\n",
        "    refsets[label].add(i)\n",
        "    observed = classifier_tree.classify(feats)\n",
        "    testsets[observed].add(i)\n",
        "\n",
        "accuracy_test_dt = nltk.classify.accuracy(classifier_tree, test_set_fe)\n",
        "avg_precision_test_dt = (precision(refsets['male'], testsets['male'])+precision(refsets['male'], testsets['female']))/2\n",
        "avg_recall_test_dt = (recall(refsets['male'], testsets['male'])+recall(refsets['male'], testsets['female']))/2\n",
        "avg_f_measure_test_dt = (f_measure(refsets['male'], testsets['male'])+f_measure(refsets['male'], testsets['female']))/2\n",
        "\n",
        "\n",
        "for i, (feats, label) in enumerate(devtest_set_fe):\n",
        "    refsets[label].add(i)\n",
        "    observed = classifier_tree.classify(feats)\n",
        "    testsets[observed].add(i)\n",
        "\n",
        "accuracy_dev_dt = nltk.classify.accuracy(classifier, devtest_set_fe)\n",
        "avg_precision_dev_dt = (precision(refsets['male'], testsets['male'])+precision(refsets['male'], testsets['female']))/2\n",
        "avg_recall_dev_dt = (recall(refsets['male'], testsets['male'])+recall(refsets['male'], testsets['female']))/2\n",
        "avg_f_measure_dev_dt = (f_measure(refsets['male'], testsets['male'])+f_measure(refsets['male'], testsets['female']))/2\n",
        "\n",
        "accuracy_dt_final = [accuracy_train_dt,accuracy_test_dt,accuracy_dev_dt]\n",
        "precision_dt_final = [avg_precision_train_dt,avg_precision_test_dt,avg_precision_dev_dt]\n",
        "recall_dt_final = [avg_recall_train_dt,avg_recall_test_dt,avg_recall_dev_dt]\n",
        "f_measure_dt_final = [avg_f_measure_train_dt,avg_f_measure_test_dt,avg_f_measure_dev_dt]\n",
        "\n",
        "dt_final_train = [accuracy_train_dt,avg_precision_train_dt,avg_recall_train_dt,avg_f_measure_train_dt]\n",
        "dt_final_test = [accuracy_test_dt,avg_precision_test_dt,avg_recall_test_dt,avg_f_measure_test_dt]\n",
        "dt_final_dev = [accuracy_dev_dt,avg_precision_dev_dt,avg_recall_dev_dt,avg_f_measure_dev_dt]\n",
        "dt_combined = {'Accuracy':accuracy_dt_final,'Precision':precision_dt_final,'Recall':recall_dt_final,'F_Measure':f_measure_dt_final}\n",
        "df_dt = pd.DataFrame(dt_combined,index=['Train','Test','Dev'],columns=['Accuracy','Precision','Recall','F_Measure'])\n",
        "\n",
        "print(\"---------Decision Tree Classifier Metrics---------\")\n",
        "print(df_dt)"
      ],
      "metadata": {
        "colab": {
          "base_uri": "https://localhost:8080/"
        },
        "id": "UjTmanriVSnh",
        "outputId": "4e89b15d-7b1b-4ac0-84b0-a9e91135870b"
      },
      "execution_count": null,
      "outputs": [
        {
          "output_type": "stream",
          "name": "stdout",
          "text": [
            "---------Decision Tree Classifier Metrics---------\n",
            "       Accuracy  Precision   Recall  F_Measure\n",
            "Train  0.934476   0.519252  0.50000   0.504354\n",
            "Test   0.748000   0.412386  0.50000   0.448821\n",
            "Dev    0.778000   0.618290  0.78169   0.686644\n"
          ]
        }
      ]
    },
    {
      "cell_type": "markdown",
      "source": [
        "## Now Compare with dev test data for error rate - DT"
      ],
      "metadata": {
        "id": "ZT1nsFs4VegC"
      }
    },
    {
      "cell_type": "code",
      "source": [
        "errors2 = []\n",
        "for (name, tag) in devtest_set:\n",
        "    guess = classifier_tree.classify(gender_features(name))\n",
        "    if guess != tag:\n",
        "        errors2.append( (tag, guess, name) )"
      ],
      "metadata": {
        "id": "OzFI-tPIVf2h"
      },
      "execution_count": null,
      "outputs": []
    },
    {
      "cell_type": "code",
      "source": [
        "for (tag, guess, name) in sorted(errors): # doctest: +ELLIPSIS +NORMALIZE_WHITESPACE\n",
        "    print('correct=%-8s guess=%-8s name=%-30s' % (tag, guess, name))"
      ],
      "metadata": {
        "colab": {
          "base_uri": "https://localhost:8080/"
        },
        "id": "RHg10wctVi5A",
        "outputId": "eefcf63e-50cf-4321-915a-85b3874e959f"
      },
      "execution_count": null,
      "outputs": [
        {
          "output_type": "stream",
          "name": "stdout",
          "text": [
            "correct=female   guess=male     name=Aurore                        \n",
            "correct=female   guess=male     name=Austin                        \n",
            "correct=female   guess=male     name=Barbe                         \n",
            "correct=female   guess=male     name=Barby                         \n",
            "correct=female   guess=male     name=Bebe                          \n",
            "correct=female   guess=male     name=Bird                          \n",
            "correct=female   guess=male     name=Birgit                        \n",
            "correct=female   guess=male     name=Bunnie                        \n",
            "correct=female   guess=male     name=Cameo                         \n",
            "correct=female   guess=male     name=Caron                         \n",
            "correct=female   guess=male     name=Clemmy                        \n",
            "correct=female   guess=male     name=Cloris                        \n",
            "correct=female   guess=male     name=Coleen                        \n",
            "correct=female   guess=male     name=Colleen                       \n",
            "correct=female   guess=male     name=Corliss                       \n",
            "correct=female   guess=male     name=Cybill                        \n",
            "correct=female   guess=male     name=Cynthy                        \n",
            "correct=female   guess=male     name=Debor                         \n",
            "correct=female   guess=male     name=Devon                         \n",
            "correct=female   guess=male     name=Dian                          \n",
            "correct=female   guess=male     name=Dorian                        \n",
            "correct=female   guess=male     name=Dory                          \n",
            "correct=female   guess=male     name=Eddy                          \n",
            "correct=female   guess=male     name=Eden                          \n",
            "correct=female   guess=male     name=Elonore                       \n",
            "correct=female   guess=male     name=Gabriel                       \n",
            "correct=female   guess=male     name=Gabriell                      \n",
            "correct=female   guess=male     name=Gilly                         \n",
            "correct=female   guess=male     name=Gretchen                      \n",
            "correct=female   guess=male     name=Hally                         \n",
            "correct=female   guess=male     name=Harriet                       \n",
            "correct=female   guess=male     name=Hildy                         \n",
            "correct=female   guess=male     name=Jean                          \n",
            "correct=female   guess=male     name=Joell                         \n",
            "correct=female   guess=male     name=Kipp                          \n",
            "correct=female   guess=male     name=Lauren                        \n",
            "correct=female   guess=male     name=Manon                         \n",
            "correct=female   guess=male     name=Marlo                         \n",
            "correct=female   guess=male     name=Megan                         \n",
            "correct=female   guess=male     name=Michell                       \n",
            "correct=female   guess=male     name=Milicent                      \n",
            "correct=female   guess=male     name=Monah                         \n",
            "correct=female   guess=male     name=Nike                          \n",
            "correct=female   guess=male     name=Noel                          \n",
            "correct=female   guess=male     name=Noreen                        \n",
            "correct=female   guess=male     name=Pegeen                        \n",
            "correct=female   guess=male     name=Phillis                       \n",
            "correct=female   guess=male     name=Piper                         \n",
            "correct=female   guess=male     name=Prudy                         \n",
            "correct=female   guess=male     name=Robbyn                        \n",
            "correct=female   guess=male     name=Rory                          \n",
            "correct=female   guess=male     name=Rosario                       \n",
            "correct=female   guess=male     name=Roselin                       \n",
            "correct=female   guess=male     name=Roze                          \n",
            "correct=female   guess=male     name=Sal                           \n",
            "correct=female   guess=male     name=Sammy                         \n",
            "correct=female   guess=male     name=Sandy                         \n",
            "correct=female   guess=male     name=Scarlet                       \n",
            "correct=female   guess=male     name=Shanon                        \n",
            "correct=female   guess=male     name=Shay                          \n",
            "correct=female   guess=male     name=Shell                         \n",
            "correct=female   guess=male     name=Sher                          \n",
            "correct=female   guess=male     name=Stormie                       \n",
            "correct=female   guess=male     name=Sue                           \n",
            "correct=female   guess=male     name=Tabby                         \n",
            "correct=female   guess=male     name=Theo                          \n",
            "correct=female   guess=male     name=Tiff                          \n",
            "correct=female   guess=male     name=Toby                          \n",
            "correct=female   guess=male     name=Torie                         \n",
            "correct=female   guess=male     name=Trix                          \n",
            "correct=female   guess=male     name=Wileen                        \n",
            "correct=female   guess=male     name=Willie                        \n",
            "correct=female   guess=male     name=Yetty                         \n",
            "correct=male     guess=female   name=Abbie                         \n",
            "correct=male     guess=female   name=Adrian                        \n",
            "correct=male     guess=female   name=Alastair                      \n",
            "correct=male     guess=female   name=Aldis                         \n",
            "correct=male     guess=female   name=Andre                         \n",
            "correct=male     guess=female   name=Bealle                        \n",
            "correct=male     guess=female   name=Blaine                        \n",
            "correct=male     guess=female   name=Chrissy                       \n",
            "correct=male     guess=female   name=Craig                         \n",
            "correct=male     guess=female   name=Darren                        \n",
            "correct=male     guess=female   name=Dewey                         \n",
            "correct=male     guess=female   name=Dmitri                        \n",
            "correct=male     guess=female   name=Emile                         \n",
            "correct=male     guess=female   name=Evelyn                        \n",
            "correct=male     guess=female   name=Felipe                        \n",
            "correct=male     guess=female   name=Flinn                         \n",
            "correct=male     guess=female   name=Georgia                       \n",
            "correct=male     guess=female   name=Glenn                         \n",
            "correct=male     guess=female   name=Ivan                          \n",
            "correct=male     guess=female   name=Jamie                         \n",
            "correct=male     guess=female   name=Jedediah                      \n",
            "correct=male     guess=female   name=Jefferey                      \n",
            "correct=male     guess=female   name=Jessee                        \n",
            "correct=male     guess=female   name=Jodie                         \n",
            "correct=male     guess=female   name=Lindsay                       \n",
            "correct=male     guess=female   name=Lorrie                        \n",
            "correct=male     guess=female   name=Lynn                          \n",
            "correct=male     guess=female   name=Micky                         \n",
            "correct=male     guess=female   name=Partha                        \n",
            "correct=male     guess=female   name=Pepe                          \n",
            "correct=male     guess=female   name=Perceval                      \n",
            "correct=male     guess=female   name=Rabi                          \n",
            "correct=male     guess=female   name=Sayre                         \n",
            "correct=male     guess=female   name=Stearne                       \n",
            "correct=male     guess=female   name=Tammie                        \n",
            "correct=male     guess=female   name=Terri                         \n",
            "correct=male     guess=female   name=Tremayne                      \n",
            "correct=male     guess=female   name=Waite                         \n"
          ]
        }
      ]
    },
    {
      "cell_type": "markdown",
      "source": [
        "## Result of Unmatched Error Count - DT"
      ],
      "metadata": {
        "id": "xNVRyc_3VlXS"
      }
    },
    {
      "cell_type": "code",
      "source": [
        "dt_errors = len(errors2)\n",
        "print(\"Error count: \", dt_errors)"
      ],
      "metadata": {
        "colab": {
          "base_uri": "https://localhost:8080/"
        },
        "id": "VssUMUzcVn-q",
        "outputId": "83000b19-6d4f-4ea6-86d8-aa6893ffc001"
      },
      "execution_count": null,
      "outputs": [
        {
          "output_type": "stream",
          "name": "stdout",
          "text": [
            "Error count:  135\n"
          ]
        }
      ]
    },
    {
      "cell_type": "markdown",
      "source": [
        "## Classifier Comparison Charts"
      ],
      "metadata": {
        "id": "zP0B7XD9VsSI"
      }
    },
    {
      "source": [
        "n_groups = 1\n",
        "fig, ax = plt.subplots()\n",
        "index = np.arange(n_groups)\n",
        "bar_width = 0.05\n",
        "opacity = 0.8\n",
        "\n",
        "rects1 = plt.bar(index, naive_errors, bar_width,\n",
        "alpha=opacity,\n",
        "color='m',\n",
        "label='Naive')\n",
        "\n",
        "rects2 = plt.bar(index + bar_width, dt_errors, bar_width,\n",
        "alpha=opacity,\n",
        "color='b',\n",
        "label='Decision Tree')\n",
        "\n",
        "plt.xlabel('Metrics')\n",
        "plt.ylabel('Scores')\n",
        "plt.title('Error Count - Naive Vs Decision')\n",
        "# The following line is changed.\n",
        "# Previously: plt.xticks(index + bar_width, ('Error Count'))\n",
        "# This resulted in an error as ('Error Count') was interpreted as 11 labels.\n",
        "# We want a single label, so we encapsulate 'Error Count' in a list: ['Error Count'].\n",
        "plt.xticks(index + bar_width/2, ['Error Count']) # Put 'Error Count' in a list\n",
        "plt.legend()\n",
        "\n",
        "plt.tight_layout()\n",
        "plt.show()"
      ],
      "cell_type": "code",
      "metadata": {
        "colab": {
          "base_uri": "https://localhost:8080/",
          "height": 487
        },
        "id": "0Rmfgud7V9yI",
        "outputId": "fd920ad1-a45d-42a1-db3d-e2402aa29ae2"
      },
      "execution_count": null,
      "outputs": [
        {
          "output_type": "display_data",
          "data": {
            "text/plain": [
              "<Figure size 640x480 with 1 Axes>"
            ],
            "image/png": "[encoded data removed]"
          },
          "metadata": {}
        }
      ]
    },
    {
      "cell_type": "markdown",
      "source": [
        "# Confusion Matrix and Classification Report"
      ],
      "metadata": {
        "id": "s_CRmzqSh_Kt"
      }
    },
    {
      "cell_type": "markdown",
      "source": [
        "## Naive Bayes"
      ],
      "metadata": {
        "id": "1ZgvuqCAiNIi"
      }
    },
    {
      "cell_type": "markdown",
      "source": [
        "### Confusion Matrix Train Set"
      ],
      "metadata": {
        "id": "jwontlVxt9TE"
      }
    },
    {
      "cell_type": "code",
      "source": [
        "# Get true labels and predicted labels\n",
        "true_labels_train = [label for (_, label) in train_set]\n",
        "predicted_labels_train = [classifier.classify(gender_features(name)) for (name, _) in train_set]"
      ],
      "metadata": {
        "id": "6rucfLYWe1tk"
      },
      "execution_count": null,
      "outputs": []
    },
    {
      "cell_type": "code",
      "source": [
        "# Create confusion matrix\n",
        "cm_train_nb = confusion_matrix(true_labels_train, predicted_labels_train, labels=[\"male\", \"female\"])\n",
        "\n",
        "# Plot the confusion matrix\n",
        "plt.figure(figsize=(6,5))\n",
        "sns.heatmap(cm_train_nb, annot=True, fmt=\"d\", cmap=\"Blues\", xticklabels=[\"male\", \"female\"], yticklabels=[\"male\", \"female\"], annot_kws={\"size\": 16})\n",
        "plt.xlabel(\"Predicted Label\")\n",
        "plt.ylabel(\"True Label\")\n",
        "plt.title(\"Confusion Matrix (Naive Bayes) - Train Set\")\n",
        "plt.show()"
      ],
      "metadata": {
        "colab": {
          "base_uri": "https://localhost:8080/",
          "height": 487
        },
        "id": "drv7_Zphe1Ut",
        "outputId": "f201322f-4712-4e04-ca56-ecbb6cc0a7da"
      },
      "execution_count": null,
      "outputs": [
        {
          "output_type": "display_data",
          "data": {
            "text/plain": [
              "<Figure size 600x500 with 2 Axes>"
            ],
            "image/png": "[encoded data removed]"
          },
          "metadata": {}
        }
      ]
    },
    {
      "cell_type": "markdown",
      "source": [
        "### Confusion Matrix Test Set"
      ],
      "metadata": {
        "id": "Ur3yKs6RuEam"
      }
    },
    {
      "cell_type": "code",
      "source": [
        "# Get true labels and predicted labels\n",
        "true_labels_test = [label for (_, label) in test_set]\n",
        "predicted_labels_test = [classifier.classify(gender_features(name)) for (name, _) in test_set]\n"
      ],
      "metadata": {
        "id": "lGxX5t_NYIlo"
      },
      "execution_count": null,
      "outputs": []
    },
    {
      "cell_type": "code",
      "source": [
        "# Create confusion matrix\n",
        "cm_test_nb = confusion_matrix(true_labels_test, predicted_labels_test, labels=[\"male\", \"female\"])\n",
        "\n",
        "# Plot the confusion matrix\n",
        "plt.figure(figsize=(6,5))\n",
        "sns.heatmap(cm_test_nb, annot=True, fmt=\"d\", cmap=\"Blues\", xticklabels=[\"male\", \"female\"], yticklabels=[\"male\", \"female\"], annot_kws={\"size\": 16})\n",
        "plt.xlabel(\"Predicted Label\")\n",
        "plt.ylabel(\"True Label\")\n",
        "plt.title(\"Confusion Matrix (Naive Bayes) - Test Set\")\n",
        "plt.show()\n"
      ],
      "metadata": {
        "id": "sdqX3HEM0Hur",
        "colab": {
          "base_uri": "https://localhost:8080/",
          "height": 487
        },
        "outputId": "28c61fb9-3179-4d9d-e003-fcef236f588e"
      },
      "execution_count": null,
      "outputs": [
        {
          "output_type": "display_data",
          "data": {
            "text/plain": [
              "<Figure size 600x500 with 2 Axes>"
            ],
            "image/png": "[encoded data removed]"
          },
          "metadata": {}
        }
      ]
    },
    {
      "cell_type": "markdown",
      "source": [
        "### Confusion Matrix Dev Test"
      ],
      "metadata": {
        "id": "CkNjDC5hw2Jd"
      }
    },
    {
      "cell_type": "code",
      "source": [
        "# Get true labels and predicted labels\n",
        "true_labels_test_dev = [label for (_, label) in devtest_set]\n",
        "predicted_labels_test_dev = [classifier.classify(gender_features(name)) for (name, _) in devtest_set]"
      ],
      "metadata": {
        "id": "ffmx8qbyw8p-"
      },
      "execution_count": null,
      "outputs": []
    },
    {
      "cell_type": "code",
      "source": [
        "# Create confusion matrix\n",
        "cm_dev_nb = confusion_matrix(true_labels_test_dev, predicted_labels_test_dev, labels=[\"male\", \"female\"])\n",
        "\n",
        "# Plot the confusion matrix\n",
        "plt.figure(figsize=(6,5))\n",
        "sns.heatmap(cm_dev_nb, annot=True, fmt=\"d\", cmap=\"Blues\", xticklabels=[\"male\", \"female\"], yticklabels=[\"male\", \"female\"], annot_kws={\"size\": 16})\n",
        "plt.xlabel(\"Predicted Label\")\n",
        "plt.ylabel(\"True Label\")\n",
        "plt.title(\"Confusion Matrix (Naive Bayes) - Test Set\")\n",
        "plt.show()"
      ],
      "metadata": {
        "colab": {
          "base_uri": "https://localhost:8080/",
          "height": 487
        },
        "id": "5bMgwU80xFqL",
        "outputId": "a25bb044-bfdd-47cd-927d-2dbe6f038a02"
      },
      "execution_count": null,
      "outputs": [
        {
          "output_type": "display_data",
          "data": {
            "text/plain": [
              "<Figure size 600x500 with 2 Axes>"
            ],
            "image/png": "[encoded data removed]"
          },
          "metadata": {}
        }
      ]
    },
    {
      "cell_type": "markdown",
      "source": [
        "### Classification Report"
      ],
      "metadata": {
        "id": "zYi1xhNruIYw"
      }
    },
    {
      "cell_type": "code",
      "source": [
        "# Get predictions for train and test\n",
        "train_y_true = [gender for (_, gender) in train_set]\n",
        "train_y_pred = [classifier.classify(gender_features(name)) for (name, _) in train_set]\n",
        "\n",
        "test_y_true = [gender for (_, gender) in test_set]\n",
        "test_y_pred = [classifier.classify(gender_features(name)) for (name, _) in test_set]\n",
        "\n",
        "# Confusion Matrix\n",
        "print(\"Train Confusion Matrix:\")\n",
        "print(confusion_matrix(train_y_true, train_y_pred))\n",
        "print(\"\\nTest Confusion Matrix:\")\n",
        "print(confusion_matrix(test_y_true, test_y_pred))\n",
        "\n",
        "# Classification Report\n",
        "print(\"\\nTrain Classification Report:\")\n",
        "print(classification_report(train_y_true, train_y_pred))\n",
        "\n",
        "print(\"\\nTest Classification Report:\")\n",
        "print(classification_report(test_y_true, test_y_pred))\n"
      ],
      "metadata": {
        "id": "6fgKVfNT0JMM",
        "colab": {
          "base_uri": "https://localhost:8080/"
        },
        "outputId": "f8b9ad90-b5f8-4e75-f1f0-cb881f5b1221"
      },
      "execution_count": null,
      "outputs": [
        {
          "output_type": "stream",
          "name": "stdout",
          "text": [
            "Train Confusion Matrix:\n",
            "[[3635  719]\n",
            " [ 594 1996]]\n",
            "\n",
            "Test Confusion Matrix:\n",
            "[[256  60]\n",
            " [ 39 145]]\n",
            "\n",
            "Train Classification Report:\n",
            "              precision    recall  f1-score   support\n",
            "\n",
            "      female       0.86      0.83      0.85      4354\n",
            "        male       0.74      0.77      0.75      2590\n",
            "\n",
            "    accuracy                           0.81      6944\n",
            "   macro avg       0.80      0.80      0.80      6944\n",
            "weighted avg       0.81      0.81      0.81      6944\n",
            "\n",
            "\n",
            "Test Classification Report:\n",
            "              precision    recall  f1-score   support\n",
            "\n",
            "      female       0.87      0.81      0.84       316\n",
            "        male       0.71      0.79      0.75       184\n",
            "\n",
            "    accuracy                           0.80       500\n",
            "   macro avg       0.79      0.80      0.79       500\n",
            "weighted avg       0.81      0.80      0.80       500\n",
            "\n"
          ]
        }
      ]
    },
    {
      "cell_type": "code",
      "source": [
        "# Evaluate on train\n",
        "train_accuracy = classify.accuracy(classifier, train_set_fe )\n",
        "print(f\"Train Accuracy: {train_accuracy:.2%}\")\n",
        "\n",
        "\n",
        "# Evaluate on test\n",
        "test_accuracy = classify.accuracy(classifier, test_set_fe)\n",
        "print(f\"Test Accuracy: {test_accuracy:.2%}\")\n",
        "\n",
        "# Evaluate on devtest\n",
        "devtest_accuracy = classify.accuracy(classifier, devtest_set_fe )\n",
        "print(f\"Dev-test Accuracy: {devtest_accuracy:.2%}\")"
      ],
      "metadata": {
        "id": "2t29oyuK0Jcf",
        "colab": {
          "base_uri": "https://localhost:8080/"
        },
        "outputId": "a7a243cd-7f7a-480a-da4a-48f1758a7da5"
      },
      "execution_count": null,
      "outputs": [
        {
          "output_type": "stream",
          "name": "stdout",
          "text": [
            "Train Accuracy: 81.09%\n",
            "Test Accuracy: 80.20%\n",
            "Dev-test Accuracy: 77.80%\n"
          ]
        }
      ]
    },
    {
      "cell_type": "markdown",
      "source": [
        "## Decision Tree"
      ],
      "metadata": {
        "id": "4wZ_dDAEiTYJ"
      }
    },
    {
      "cell_type": "markdown",
      "source": [
        "### Confusion Matrix Train Set"
      ],
      "metadata": {
        "id": "Z0JoNovKtdiQ"
      }
    },
    {
      "cell_type": "code",
      "source": [
        "# Get true labels and predicted labels\n",
        "true_tree_labels_train = [label for (_, label) in train_set]\n",
        "predicted_tree_labels_train = [classifier_tree.classify(gender_features(name)) for (name, _) in train_set]\n",
        "\n",
        "# Create confusion matrix\n",
        "cm_tree_train = confusion_matrix(true_tree_labels_train, predicted_tree_labels_train, labels=[\"male\", \"female\"])\n",
        "\n",
        "# Plot the confusion matrix for decision tree (train)\n",
        "plt.figure(figsize=(6,5))\n",
        "sns.heatmap(cm_tree_train, annot=True, fmt=\"d\", cmap=\"Greens\", xticklabels=[\"male\", \"female\"], yticklabels=[\"male\", \"female\"], annot_kws={\"size\": 16})\n",
        "plt.xlabel(\"Predicted Label\")\n",
        "plt.ylabel(\"True Label\")\n",
        "plt.title(\"Confusion Matrix (Decision Tree) - Train Set\")\n",
        "plt.show()\n"
      ],
      "metadata": {
        "id": "NePBOwqD0JoH",
        "colab": {
          "base_uri": "https://localhost:8080/",
          "height": 487
        },
        "outputId": "10ec7814-b54f-49fa-ab7e-e630aff7d84d"
      },
      "execution_count": null,
      "outputs": [
        {
          "output_type": "display_data",
          "data": {
            "text/plain": [
              "<Figure size 600x500 with 2 Axes>"
            ],
            "image/png": "[encoded data removed]"
          },
          "metadata": {}
        }
      ]
    },
    {
      "cell_type": "markdown",
      "source": [
        "### Confusion Matrix Test Set"
      ],
      "metadata": {
        "id": "SSZNJxqqtlU6"
      }
    },
    {
      "cell_type": "code",
      "source": [
        "# Get true labels and predicted labels\n",
        "true_tree_labels_test = [label for (_, label) in test_set]\n",
        "predicted_tree_labels_test = [classifier_tree.classify(gender_features(name)) for (name, _) in test_set]\n",
        "\n",
        "# Create confusion matrix\n",
        "cm_tree_test = confusion_matrix(true_tree_labels_test, predicted_tree_labels_test, labels=[\"male\", \"female\"])\n",
        "\n",
        "# Plot the confusion matrix for decision tree (test)\n",
        "plt.figure(figsize=(6,5))\n",
        "sns.heatmap(cm_tree_test, annot=True, fmt=\"d\", cmap=\"Greens\", xticklabels=[\"male\", \"female\"], yticklabels=[\"male\", \"female\"], annot_kws={\"size\": 16})\n",
        "plt.xlabel(\"Predicted Label\")\n",
        "plt.ylabel(\"True Label\")\n",
        "plt.title(\"Confusion Matrix (Decision Tree) - Test Set\")\n",
        "plt.show()"
      ],
      "metadata": {
        "colab": {
          "base_uri": "https://localhost:8080/",
          "height": 487
        },
        "id": "CM3bsR0yecJn",
        "outputId": "651b87cb-1978-4635-830c-1db77e009b67"
      },
      "execution_count": null,
      "outputs": [
        {
          "output_type": "display_data",
          "data": {
            "text/plain": [
              "<Figure size 600x500 with 2 Axes>"
            ],
            "image/png": "[encoded data removed]"
          },
          "metadata": {}
        }
      ]
    },
    {
      "cell_type": "markdown",
      "source": [
        "### Confusion Matrix Dev Test"
      ],
      "metadata": {
        "id": "E5bh1jlrwhhU"
      }
    },
    {
      "cell_type": "code",
      "source": [
        "# Get true labels and predicted labels\n",
        "true_tree_labels_devtrain = [label for (_, label) in devtest_set]\n",
        "predicted_tree_labels_devtrain = [classifier_tree.classify(gender_features(name)) for (name, _) in devtest_set]\n",
        "\n",
        "# Create confusion matrix\n",
        "cm_tree_train_dev = confusion_matrix(true_tree_labels_devtrain, predicted_tree_labels_devtrain, labels=[\"male\", \"female\"])\n",
        "\n",
        "# Plot the confusion matrix for decision tree (train)\n",
        "plt.figure(figsize=(6,5))\n",
        "sns.heatmap(cm_tree_train_dev, annot=True, fmt=\"d\", cmap=\"Greens\", xticklabels=[\"male\", \"female\"], yticklabels=[\"male\", \"female\"], annot_kws={\"size\": 16})\n",
        "plt.xlabel(\"Predicted Label\")\n",
        "plt.ylabel(\"True Label\")\n",
        "plt.title(\"Confusion Matrix (Decision Tree) - Dev Set\")\n",
        "plt.show()"
      ],
      "metadata": {
        "colab": {
          "base_uri": "https://localhost:8080/",
          "height": 487
        },
        "id": "Rd3Uo0Dlul8l",
        "outputId": "be2667c0-6715-4345-8155-0b06f56f24a8"
      },
      "execution_count": null,
      "outputs": [
        {
          "output_type": "display_data",
          "data": {
            "text/plain": [
              "<Figure size 600x500 with 2 Axes>"
            ],
            "image/png": "[encoded data removed]"
          },
          "metadata": {}
        }
      ]
    },
    {
      "cell_type": "markdown",
      "source": [
        "### Classification Report"
      ],
      "metadata": {
        "id": "6A3Oza50tp1S"
      }
    },
    {
      "cell_type": "code",
      "source": [
        "# Get predictions for train and test\n",
        "train_y_true_tree = [gender for (_, gender) in train_set]\n",
        "train_y_pred_tree = [classifier_tree.classify(gender_features(name)) for (name, _) in train_set]\n",
        "\n",
        "test_y_true_tree = [gender for (_, gender) in test_set]\n",
        "test_y_pred_tree = [classifier_tree.classify(gender_features(name)) for (name, _) in test_set]\n",
        "\n",
        "# Confusion Matrix\n",
        "print(\"Train Confusion Matrix:\")\n",
        "print(confusion_matrix(train_y_true_tree, train_y_pred_tree))\n",
        "print(\"\\nTest Confusion Matrix:\")\n",
        "print(confusion_matrix(test_y_true_tree, test_y_pred_tree))\n",
        "\n",
        "# Classification Report\n",
        "print(\"\\nTrain Classification Report:\")\n",
        "print(classification_report(train_y_true_tree, train_y_pred_tree))\n",
        "\n",
        "print(\"\\nTest Classification Report:\")\n",
        "print(classification_report(test_y_true_tree, test_y_pred_tree))\n",
        "\n",
        "# Evaluate on train\n",
        "train_accuracy = classify.accuracy(classifier_tree, train_set_fe )\n",
        "print(f\"Train Accuracy: {train_accuracy:.2%}\")\n",
        "\n",
        "\n",
        "# Evaluate on test\n",
        "test_accuracy = classify.accuracy(classifier_tree, test_set_fe)\n",
        "print(f\"Test Accuracy: {test_accuracy:.2%}\")\n",
        "\n",
        "# Evaluate on devtest\n",
        "devtest_accuracy = classify.accuracy(classifier_tree, devtest_set_fe )\n",
        "print(f\"Dev-test Accuracy: {devtest_accuracy:.2%}\")"
      ],
      "metadata": {
        "colab": {
          "base_uri": "https://localhost:8080/"
        },
        "id": "OaBUdZXdgNYs",
        "outputId": "f818f435-267f-4af5-9d67-71c5bec8f729"
      },
      "execution_count": null,
      "outputs": [
        {
          "output_type": "stream",
          "name": "stdout",
          "text": [
            "Train Confusion Matrix:\n",
            "[[4189  165]\n",
            " [ 290 2300]]\n",
            "\n",
            "Test Confusion Matrix:\n",
            "[[244  72]\n",
            " [ 54 130]]\n",
            "\n",
            "Train Classification Report:\n",
            "              precision    recall  f1-score   support\n",
            "\n",
            "      female       0.94      0.96      0.95      4354\n",
            "        male       0.93      0.89      0.91      2590\n",
            "\n",
            "    accuracy                           0.93      6944\n",
            "   macro avg       0.93      0.93      0.93      6944\n",
            "weighted avg       0.93      0.93      0.93      6944\n",
            "\n",
            "\n",
            "Test Classification Report:\n",
            "              precision    recall  f1-score   support\n",
            "\n",
            "      female       0.82      0.77      0.79       316\n",
            "        male       0.64      0.71      0.67       184\n",
            "\n",
            "    accuracy                           0.75       500\n",
            "   macro avg       0.73      0.74      0.73       500\n",
            "weighted avg       0.75      0.75      0.75       500\n",
            "\n",
            "Train Accuracy: 93.45%\n",
            "Test Accuracy: 74.80%\n",
            "Dev-test Accuracy: 73.00%\n"
          ]
        }
      ]
    },
    {
      "cell_type": "markdown",
      "source": [
        "# Analysis:\n",
        "Naive Bayes and Decision Tree classifers provide different results. The Decision Tree classifier had a train accuracy of 93.45%, higher than Naive Bayes' train accuracy of 81.09%. However, Naive Bayes had higher test and dev-test accuracy results than Decision Tree, with 80.20% and 77.80%, respectively, compared to the results of Decision Tree which had a test set accuracy of 73.80% and dev-set accuracy of 73.20%. For both classifiers, the test sets of female names had higher f1-scores than male names, with the test set in Naive Bayes achieving a higher percentage in both female and male names than Decision Tree."
      ],
      "metadata": {
        "id": "f9lSMnska6RD"
      }
    },
    {
      "cell_type": "markdown",
      "source": [
        "# Conclusion:\n",
        "The comparison of performance between the test set and the dev-test set yields notable findings. While the Decision Tree model achieved higher training accuracy compared to the Naive Bayes model, it also resulted in a significantly greater number of unmatched errors. On the other hand, when considering the average accuracy across the three datasets and the consistency of matched predictions, the Naive Bayes model demonstrated superior performance overall, outperforming the Decision Tree model.\n"
      ],
      "metadata": {
        "id": "vSi6lleqWQww"
      }
    }
  ]
}